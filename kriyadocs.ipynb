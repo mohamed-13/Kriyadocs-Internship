{
 "cells": [
  {
   "cell_type": "markdown",
   "id": "199337b2",
   "metadata": {},
   "source": [
    "### Week 1"
   ]
  },
  {
   "cell_type": "code",
   "execution_count": 2,
   "id": "2ea6db1c",
   "metadata": {},
   "outputs": [
    {
     "ename": "ConnectionError",
     "evalue": "HTTPSConnectionPool(host='www.betterteam.com', port=443): Max retries exceeded with url: /job-description (Caused by NewConnectionError('<urllib3.connection.HTTPSConnection object at 0x0000022907BE2140>: Failed to establish a new connection: [Errno 11001] getaddrinfo failed'))",
     "output_type": "error",
     "traceback": [
      "\u001b[1;31m---------------------------------------------------------------------------\u001b[0m",
      "\u001b[1;31mgaierror\u001b[0m                                  Traceback (most recent call last)",
      "File \u001b[1;32m~\\AppData\\Local\\Programs\\Python\\Python310\\lib\\site-packages\\urllib3\\connection.py:174\u001b[0m, in \u001b[0;36mHTTPConnection._new_conn\u001b[1;34m(self)\u001b[0m\n\u001b[0;32m    173\u001b[0m \u001b[38;5;28;01mtry\u001b[39;00m:\n\u001b[1;32m--> 174\u001b[0m     conn \u001b[38;5;241m=\u001b[39m connection\u001b[38;5;241m.\u001b[39mcreate_connection(\n\u001b[0;32m    175\u001b[0m         (\u001b[38;5;28mself\u001b[39m\u001b[38;5;241m.\u001b[39m_dns_host, \u001b[38;5;28mself\u001b[39m\u001b[38;5;241m.\u001b[39mport), \u001b[38;5;28mself\u001b[39m\u001b[38;5;241m.\u001b[39mtimeout, \u001b[38;5;241m*\u001b[39m\u001b[38;5;241m*\u001b[39mextra_kw\n\u001b[0;32m    176\u001b[0m     )\n\u001b[0;32m    178\u001b[0m \u001b[38;5;28;01mexcept\u001b[39;00m SocketTimeout:\n",
      "File \u001b[1;32m~\\AppData\\Local\\Programs\\Python\\Python310\\lib\\site-packages\\urllib3\\util\\connection.py:72\u001b[0m, in \u001b[0;36mcreate_connection\u001b[1;34m(address, timeout, source_address, socket_options)\u001b[0m\n\u001b[0;32m     68\u001b[0m     \u001b[38;5;28;01mreturn\u001b[39;00m six\u001b[38;5;241m.\u001b[39mraise_from(\n\u001b[0;32m     69\u001b[0m         LocationParseError(\u001b[38;5;124mu\u001b[39m\u001b[38;5;124m\"\u001b[39m\u001b[38;5;124m'\u001b[39m\u001b[38;5;132;01m%s\u001b[39;00m\u001b[38;5;124m'\u001b[39m\u001b[38;5;124m, label empty or too long\u001b[39m\u001b[38;5;124m\"\u001b[39m \u001b[38;5;241m%\u001b[39m host), \u001b[38;5;28;01mNone\u001b[39;00m\n\u001b[0;32m     70\u001b[0m     )\n\u001b[1;32m---> 72\u001b[0m \u001b[38;5;28;01mfor\u001b[39;00m res \u001b[38;5;129;01min\u001b[39;00m \u001b[43msocket\u001b[49m\u001b[38;5;241;43m.\u001b[39;49m\u001b[43mgetaddrinfo\u001b[49m\u001b[43m(\u001b[49m\u001b[43mhost\u001b[49m\u001b[43m,\u001b[49m\u001b[43m \u001b[49m\u001b[43mport\u001b[49m\u001b[43m,\u001b[49m\u001b[43m \u001b[49m\u001b[43mfamily\u001b[49m\u001b[43m,\u001b[49m\u001b[43m \u001b[49m\u001b[43msocket\u001b[49m\u001b[38;5;241;43m.\u001b[39;49m\u001b[43mSOCK_STREAM\u001b[49m\u001b[43m)\u001b[49m:\n\u001b[0;32m     73\u001b[0m     af, socktype, proto, canonname, sa \u001b[38;5;241m=\u001b[39m res\n",
      "File \u001b[1;32m~\\AppData\\Local\\Programs\\Python\\Python310\\lib\\socket.py:955\u001b[0m, in \u001b[0;36mgetaddrinfo\u001b[1;34m(host, port, family, type, proto, flags)\u001b[0m\n\u001b[0;32m    954\u001b[0m addrlist \u001b[38;5;241m=\u001b[39m []\n\u001b[1;32m--> 955\u001b[0m \u001b[38;5;28;01mfor\u001b[39;00m res \u001b[38;5;129;01min\u001b[39;00m \u001b[43m_socket\u001b[49m\u001b[38;5;241;43m.\u001b[39;49m\u001b[43mgetaddrinfo\u001b[49m\u001b[43m(\u001b[49m\u001b[43mhost\u001b[49m\u001b[43m,\u001b[49m\u001b[43m \u001b[49m\u001b[43mport\u001b[49m\u001b[43m,\u001b[49m\u001b[43m \u001b[49m\u001b[43mfamily\u001b[49m\u001b[43m,\u001b[49m\u001b[43m \u001b[49m\u001b[38;5;28;43mtype\u001b[39;49m\u001b[43m,\u001b[49m\u001b[43m \u001b[49m\u001b[43mproto\u001b[49m\u001b[43m,\u001b[49m\u001b[43m \u001b[49m\u001b[43mflags\u001b[49m\u001b[43m)\u001b[49m:\n\u001b[0;32m    956\u001b[0m     af, socktype, proto, canonname, sa \u001b[38;5;241m=\u001b[39m res\n",
      "\u001b[1;31mgaierror\u001b[0m: [Errno 11001] getaddrinfo failed",
      "\nDuring handling of the above exception, another exception occurred:\n",
      "\u001b[1;31mNewConnectionError\u001b[0m                        Traceback (most recent call last)",
      "File \u001b[1;32m~\\AppData\\Local\\Programs\\Python\\Python310\\lib\\site-packages\\urllib3\\connectionpool.py:703\u001b[0m, in \u001b[0;36mHTTPConnectionPool.urlopen\u001b[1;34m(self, method, url, body, headers, retries, redirect, assert_same_host, timeout, pool_timeout, release_conn, chunked, body_pos, **response_kw)\u001b[0m\n\u001b[0;32m    702\u001b[0m \u001b[38;5;66;03m# Make the request on the httplib connection object.\u001b[39;00m\n\u001b[1;32m--> 703\u001b[0m httplib_response \u001b[38;5;241m=\u001b[39m \u001b[38;5;28;43mself\u001b[39;49m\u001b[38;5;241;43m.\u001b[39;49m\u001b[43m_make_request\u001b[49m\u001b[43m(\u001b[49m\n\u001b[0;32m    704\u001b[0m \u001b[43m    \u001b[49m\u001b[43mconn\u001b[49m\u001b[43m,\u001b[49m\n\u001b[0;32m    705\u001b[0m \u001b[43m    \u001b[49m\u001b[43mmethod\u001b[49m\u001b[43m,\u001b[49m\n\u001b[0;32m    706\u001b[0m \u001b[43m    \u001b[49m\u001b[43murl\u001b[49m\u001b[43m,\u001b[49m\n\u001b[0;32m    707\u001b[0m \u001b[43m    \u001b[49m\u001b[43mtimeout\u001b[49m\u001b[38;5;241;43m=\u001b[39;49m\u001b[43mtimeout_obj\u001b[49m\u001b[43m,\u001b[49m\n\u001b[0;32m    708\u001b[0m \u001b[43m    \u001b[49m\u001b[43mbody\u001b[49m\u001b[38;5;241;43m=\u001b[39;49m\u001b[43mbody\u001b[49m\u001b[43m,\u001b[49m\n\u001b[0;32m    709\u001b[0m \u001b[43m    \u001b[49m\u001b[43mheaders\u001b[49m\u001b[38;5;241;43m=\u001b[39;49m\u001b[43mheaders\u001b[49m\u001b[43m,\u001b[49m\n\u001b[0;32m    710\u001b[0m \u001b[43m    \u001b[49m\u001b[43mchunked\u001b[49m\u001b[38;5;241;43m=\u001b[39;49m\u001b[43mchunked\u001b[49m\u001b[43m,\u001b[49m\n\u001b[0;32m    711\u001b[0m \u001b[43m\u001b[49m\u001b[43m)\u001b[49m\n\u001b[0;32m    713\u001b[0m \u001b[38;5;66;03m# If we're going to release the connection in ``finally:``, then\u001b[39;00m\n\u001b[0;32m    714\u001b[0m \u001b[38;5;66;03m# the response doesn't need to know about the connection. Otherwise\u001b[39;00m\n\u001b[0;32m    715\u001b[0m \u001b[38;5;66;03m# it will also try to release it and we'll have a double-release\u001b[39;00m\n\u001b[0;32m    716\u001b[0m \u001b[38;5;66;03m# mess.\u001b[39;00m\n",
      "File \u001b[1;32m~\\AppData\\Local\\Programs\\Python\\Python310\\lib\\site-packages\\urllib3\\connectionpool.py:386\u001b[0m, in \u001b[0;36mHTTPConnectionPool._make_request\u001b[1;34m(self, conn, method, url, timeout, chunked, **httplib_request_kw)\u001b[0m\n\u001b[0;32m    385\u001b[0m \u001b[38;5;28;01mtry\u001b[39;00m:\n\u001b[1;32m--> 386\u001b[0m     \u001b[38;5;28;43mself\u001b[39;49m\u001b[38;5;241;43m.\u001b[39;49m\u001b[43m_validate_conn\u001b[49m\u001b[43m(\u001b[49m\u001b[43mconn\u001b[49m\u001b[43m)\u001b[49m\n\u001b[0;32m    387\u001b[0m \u001b[38;5;28;01mexcept\u001b[39;00m (SocketTimeout, BaseSSLError) \u001b[38;5;28;01mas\u001b[39;00m e:\n\u001b[0;32m    388\u001b[0m     \u001b[38;5;66;03m# Py2 raises this as a BaseSSLError, Py3 raises it as socket timeout.\u001b[39;00m\n",
      "File \u001b[1;32m~\\AppData\\Local\\Programs\\Python\\Python310\\lib\\site-packages\\urllib3\\connectionpool.py:1042\u001b[0m, in \u001b[0;36mHTTPSConnectionPool._validate_conn\u001b[1;34m(self, conn)\u001b[0m\n\u001b[0;32m   1041\u001b[0m \u001b[38;5;28;01mif\u001b[39;00m \u001b[38;5;129;01mnot\u001b[39;00m \u001b[38;5;28mgetattr\u001b[39m(conn, \u001b[38;5;124m\"\u001b[39m\u001b[38;5;124msock\u001b[39m\u001b[38;5;124m\"\u001b[39m, \u001b[38;5;28;01mNone\u001b[39;00m):  \u001b[38;5;66;03m# AppEngine might not have  `.sock`\u001b[39;00m\n\u001b[1;32m-> 1042\u001b[0m     \u001b[43mconn\u001b[49m\u001b[38;5;241;43m.\u001b[39;49m\u001b[43mconnect\u001b[49m\u001b[43m(\u001b[49m\u001b[43m)\u001b[49m\n\u001b[0;32m   1044\u001b[0m \u001b[38;5;28;01mif\u001b[39;00m \u001b[38;5;129;01mnot\u001b[39;00m conn\u001b[38;5;241m.\u001b[39mis_verified:\n",
      "File \u001b[1;32m~\\AppData\\Local\\Programs\\Python\\Python310\\lib\\site-packages\\urllib3\\connection.py:358\u001b[0m, in \u001b[0;36mHTTPSConnection.connect\u001b[1;34m(self)\u001b[0m\n\u001b[0;32m    356\u001b[0m \u001b[38;5;28;01mdef\u001b[39;00m \u001b[38;5;21mconnect\u001b[39m(\u001b[38;5;28mself\u001b[39m):\n\u001b[0;32m    357\u001b[0m     \u001b[38;5;66;03m# Add certificate verification\u001b[39;00m\n\u001b[1;32m--> 358\u001b[0m     \u001b[38;5;28mself\u001b[39m\u001b[38;5;241m.\u001b[39msock \u001b[38;5;241m=\u001b[39m conn \u001b[38;5;241m=\u001b[39m \u001b[38;5;28;43mself\u001b[39;49m\u001b[38;5;241;43m.\u001b[39;49m\u001b[43m_new_conn\u001b[49m\u001b[43m(\u001b[49m\u001b[43m)\u001b[49m\n\u001b[0;32m    359\u001b[0m     hostname \u001b[38;5;241m=\u001b[39m \u001b[38;5;28mself\u001b[39m\u001b[38;5;241m.\u001b[39mhost\n",
      "File \u001b[1;32m~\\AppData\\Local\\Programs\\Python\\Python310\\lib\\site-packages\\urllib3\\connection.py:186\u001b[0m, in \u001b[0;36mHTTPConnection._new_conn\u001b[1;34m(self)\u001b[0m\n\u001b[0;32m    185\u001b[0m \u001b[38;5;28;01mexcept\u001b[39;00m SocketError \u001b[38;5;28;01mas\u001b[39;00m e:\n\u001b[1;32m--> 186\u001b[0m     \u001b[38;5;28;01mraise\u001b[39;00m NewConnectionError(\n\u001b[0;32m    187\u001b[0m         \u001b[38;5;28mself\u001b[39m, \u001b[38;5;124m\"\u001b[39m\u001b[38;5;124mFailed to establish a new connection: \u001b[39m\u001b[38;5;132;01m%s\u001b[39;00m\u001b[38;5;124m\"\u001b[39m \u001b[38;5;241m%\u001b[39m e\n\u001b[0;32m    188\u001b[0m     )\n\u001b[0;32m    190\u001b[0m \u001b[38;5;28;01mreturn\u001b[39;00m conn\n",
      "\u001b[1;31mNewConnectionError\u001b[0m: <urllib3.connection.HTTPSConnection object at 0x0000022907BE2140>: Failed to establish a new connection: [Errno 11001] getaddrinfo failed",
      "\nDuring handling of the above exception, another exception occurred:\n",
      "\u001b[1;31mMaxRetryError\u001b[0m                             Traceback (most recent call last)",
      "File \u001b[1;32m~\\AppData\\Local\\Programs\\Python\\Python310\\lib\\site-packages\\requests\\adapters.py:489\u001b[0m, in \u001b[0;36mHTTPAdapter.send\u001b[1;34m(self, request, stream, timeout, verify, cert, proxies)\u001b[0m\n\u001b[0;32m    488\u001b[0m \u001b[38;5;28;01mif\u001b[39;00m \u001b[38;5;129;01mnot\u001b[39;00m chunked:\n\u001b[1;32m--> 489\u001b[0m     resp \u001b[38;5;241m=\u001b[39m \u001b[43mconn\u001b[49m\u001b[38;5;241;43m.\u001b[39;49m\u001b[43murlopen\u001b[49m\u001b[43m(\u001b[49m\n\u001b[0;32m    490\u001b[0m \u001b[43m        \u001b[49m\u001b[43mmethod\u001b[49m\u001b[38;5;241;43m=\u001b[39;49m\u001b[43mrequest\u001b[49m\u001b[38;5;241;43m.\u001b[39;49m\u001b[43mmethod\u001b[49m\u001b[43m,\u001b[49m\n\u001b[0;32m    491\u001b[0m \u001b[43m        \u001b[49m\u001b[43murl\u001b[49m\u001b[38;5;241;43m=\u001b[39;49m\u001b[43murl\u001b[49m\u001b[43m,\u001b[49m\n\u001b[0;32m    492\u001b[0m \u001b[43m        \u001b[49m\u001b[43mbody\u001b[49m\u001b[38;5;241;43m=\u001b[39;49m\u001b[43mrequest\u001b[49m\u001b[38;5;241;43m.\u001b[39;49m\u001b[43mbody\u001b[49m\u001b[43m,\u001b[49m\n\u001b[0;32m    493\u001b[0m \u001b[43m        \u001b[49m\u001b[43mheaders\u001b[49m\u001b[38;5;241;43m=\u001b[39;49m\u001b[43mrequest\u001b[49m\u001b[38;5;241;43m.\u001b[39;49m\u001b[43mheaders\u001b[49m\u001b[43m,\u001b[49m\n\u001b[0;32m    494\u001b[0m \u001b[43m        \u001b[49m\u001b[43mredirect\u001b[49m\u001b[38;5;241;43m=\u001b[39;49m\u001b[38;5;28;43;01mFalse\u001b[39;49;00m\u001b[43m,\u001b[49m\n\u001b[0;32m    495\u001b[0m \u001b[43m        \u001b[49m\u001b[43massert_same_host\u001b[49m\u001b[38;5;241;43m=\u001b[39;49m\u001b[38;5;28;43;01mFalse\u001b[39;49;00m\u001b[43m,\u001b[49m\n\u001b[0;32m    496\u001b[0m \u001b[43m        \u001b[49m\u001b[43mpreload_content\u001b[49m\u001b[38;5;241;43m=\u001b[39;49m\u001b[38;5;28;43;01mFalse\u001b[39;49;00m\u001b[43m,\u001b[49m\n\u001b[0;32m    497\u001b[0m \u001b[43m        \u001b[49m\u001b[43mdecode_content\u001b[49m\u001b[38;5;241;43m=\u001b[39;49m\u001b[38;5;28;43;01mFalse\u001b[39;49;00m\u001b[43m,\u001b[49m\n\u001b[0;32m    498\u001b[0m \u001b[43m        \u001b[49m\u001b[43mretries\u001b[49m\u001b[38;5;241;43m=\u001b[39;49m\u001b[38;5;28;43mself\u001b[39;49m\u001b[38;5;241;43m.\u001b[39;49m\u001b[43mmax_retries\u001b[49m\u001b[43m,\u001b[49m\n\u001b[0;32m    499\u001b[0m \u001b[43m        \u001b[49m\u001b[43mtimeout\u001b[49m\u001b[38;5;241;43m=\u001b[39;49m\u001b[43mtimeout\u001b[49m\u001b[43m,\u001b[49m\n\u001b[0;32m    500\u001b[0m \u001b[43m    \u001b[49m\u001b[43m)\u001b[49m\n\u001b[0;32m    502\u001b[0m \u001b[38;5;66;03m# Send the request.\u001b[39;00m\n\u001b[0;32m    503\u001b[0m \u001b[38;5;28;01melse\u001b[39;00m:\n",
      "File \u001b[1;32m~\\AppData\\Local\\Programs\\Python\\Python310\\lib\\site-packages\\urllib3\\connectionpool.py:787\u001b[0m, in \u001b[0;36mHTTPConnectionPool.urlopen\u001b[1;34m(self, method, url, body, headers, retries, redirect, assert_same_host, timeout, pool_timeout, release_conn, chunked, body_pos, **response_kw)\u001b[0m\n\u001b[0;32m    785\u001b[0m     e \u001b[38;5;241m=\u001b[39m ProtocolError(\u001b[38;5;124m\"\u001b[39m\u001b[38;5;124mConnection aborted.\u001b[39m\u001b[38;5;124m\"\u001b[39m, e)\n\u001b[1;32m--> 787\u001b[0m retries \u001b[38;5;241m=\u001b[39m \u001b[43mretries\u001b[49m\u001b[38;5;241;43m.\u001b[39;49m\u001b[43mincrement\u001b[49m\u001b[43m(\u001b[49m\n\u001b[0;32m    788\u001b[0m \u001b[43m    \u001b[49m\u001b[43mmethod\u001b[49m\u001b[43m,\u001b[49m\u001b[43m \u001b[49m\u001b[43murl\u001b[49m\u001b[43m,\u001b[49m\u001b[43m \u001b[49m\u001b[43merror\u001b[49m\u001b[38;5;241;43m=\u001b[39;49m\u001b[43me\u001b[49m\u001b[43m,\u001b[49m\u001b[43m \u001b[49m\u001b[43m_pool\u001b[49m\u001b[38;5;241;43m=\u001b[39;49m\u001b[38;5;28;43mself\u001b[39;49m\u001b[43m,\u001b[49m\u001b[43m \u001b[49m\u001b[43m_stacktrace\u001b[49m\u001b[38;5;241;43m=\u001b[39;49m\u001b[43msys\u001b[49m\u001b[38;5;241;43m.\u001b[39;49m\u001b[43mexc_info\u001b[49m\u001b[43m(\u001b[49m\u001b[43m)\u001b[49m\u001b[43m[\u001b[49m\u001b[38;5;241;43m2\u001b[39;49m\u001b[43m]\u001b[49m\n\u001b[0;32m    789\u001b[0m \u001b[43m\u001b[49m\u001b[43m)\u001b[49m\n\u001b[0;32m    790\u001b[0m retries\u001b[38;5;241m.\u001b[39msleep()\n",
      "File \u001b[1;32m~\\AppData\\Local\\Programs\\Python\\Python310\\lib\\site-packages\\urllib3\\util\\retry.py:592\u001b[0m, in \u001b[0;36mRetry.increment\u001b[1;34m(self, method, url, response, error, _pool, _stacktrace)\u001b[0m\n\u001b[0;32m    591\u001b[0m \u001b[38;5;28;01mif\u001b[39;00m new_retry\u001b[38;5;241m.\u001b[39mis_exhausted():\n\u001b[1;32m--> 592\u001b[0m     \u001b[38;5;28;01mraise\u001b[39;00m MaxRetryError(_pool, url, error \u001b[38;5;129;01mor\u001b[39;00m ResponseError(cause))\n\u001b[0;32m    594\u001b[0m log\u001b[38;5;241m.\u001b[39mdebug(\u001b[38;5;124m\"\u001b[39m\u001b[38;5;124mIncremented Retry for (url=\u001b[39m\u001b[38;5;124m'\u001b[39m\u001b[38;5;132;01m%s\u001b[39;00m\u001b[38;5;124m'\u001b[39m\u001b[38;5;124m): \u001b[39m\u001b[38;5;132;01m%r\u001b[39;00m\u001b[38;5;124m\"\u001b[39m, url, new_retry)\n",
      "\u001b[1;31mMaxRetryError\u001b[0m: HTTPSConnectionPool(host='www.betterteam.com', port=443): Max retries exceeded with url: /job-description (Caused by NewConnectionError('<urllib3.connection.HTTPSConnection object at 0x0000022907BE2140>: Failed to establish a new connection: [Errno 11001] getaddrinfo failed'))",
      "\nDuring handling of the above exception, another exception occurred:\n",
      "\u001b[1;31mConnectionError\u001b[0m                           Traceback (most recent call last)",
      "Input \u001b[1;32mIn [2]\u001b[0m, in \u001b[0;36m<cell line: 8>\u001b[1;34m()\u001b[0m\n\u001b[0;32m      3\u001b[0m \u001b[38;5;28;01mimport\u001b[39;00m \u001b[38;5;21;01mcsv\u001b[39;00m\n\u001b[0;32m      5\u001b[0m \u001b[38;5;66;03m#open a file\u001b[39;00m\n\u001b[0;32m      6\u001b[0m \n\u001b[0;32m      7\u001b[0m \u001b[38;5;66;03m#request to get the website\u001b[39;00m\n\u001b[1;32m----> 8\u001b[0m res\u001b[38;5;241m=\u001b[39m\u001b[43mrequests\u001b[49m\u001b[38;5;241;43m.\u001b[39;49m\u001b[43mget\u001b[49m\u001b[43m(\u001b[49m\u001b[38;5;124;43m\"\u001b[39;49m\u001b[38;5;124;43mhttps://www.betterteam.com/job-description\u001b[39;49m\u001b[38;5;124;43m\"\u001b[39;49m\u001b[43m)\u001b[49m\n\u001b[0;32m      9\u001b[0m bs\u001b[38;5;241m=\u001b[39mbs4\u001b[38;5;241m.\u001b[39mBeautifulSoup(res\u001b[38;5;241m.\u001b[39mtext,\u001b[38;5;124m\"\u001b[39m\u001b[38;5;124mhtml.parser\u001b[39m\u001b[38;5;124m\"\u001b[39m)\n\u001b[0;32m     11\u001b[0m \u001b[38;5;66;03m#create a list with class name \u001b[39;00m\n",
      "File \u001b[1;32m~\\AppData\\Local\\Programs\\Python\\Python310\\lib\\site-packages\\requests\\api.py:73\u001b[0m, in \u001b[0;36mget\u001b[1;34m(url, params, **kwargs)\u001b[0m\n\u001b[0;32m     62\u001b[0m \u001b[38;5;28;01mdef\u001b[39;00m \u001b[38;5;21mget\u001b[39m(url, params\u001b[38;5;241m=\u001b[39m\u001b[38;5;28;01mNone\u001b[39;00m, \u001b[38;5;241m*\u001b[39m\u001b[38;5;241m*\u001b[39mkwargs):\n\u001b[0;32m     63\u001b[0m     \u001b[38;5;124mr\u001b[39m\u001b[38;5;124;03m\"\"\"Sends a GET request.\u001b[39;00m\n\u001b[0;32m     64\u001b[0m \n\u001b[0;32m     65\u001b[0m \u001b[38;5;124;03m    :param url: URL for the new :class:`Request` object.\u001b[39;00m\n\u001b[1;32m   (...)\u001b[0m\n\u001b[0;32m     70\u001b[0m \u001b[38;5;124;03m    :rtype: requests.Response\u001b[39;00m\n\u001b[0;32m     71\u001b[0m \u001b[38;5;124;03m    \"\"\"\u001b[39;00m\n\u001b[1;32m---> 73\u001b[0m     \u001b[38;5;28;01mreturn\u001b[39;00m request(\u001b[38;5;124m\"\u001b[39m\u001b[38;5;124mget\u001b[39m\u001b[38;5;124m\"\u001b[39m, url, params\u001b[38;5;241m=\u001b[39mparams, \u001b[38;5;241m*\u001b[39m\u001b[38;5;241m*\u001b[39mkwargs)\n",
      "File \u001b[1;32m~\\AppData\\Local\\Programs\\Python\\Python310\\lib\\site-packages\\requests\\api.py:59\u001b[0m, in \u001b[0;36mrequest\u001b[1;34m(method, url, **kwargs)\u001b[0m\n\u001b[0;32m     55\u001b[0m \u001b[38;5;66;03m# By using the 'with' statement we are sure the session is closed, thus we\u001b[39;00m\n\u001b[0;32m     56\u001b[0m \u001b[38;5;66;03m# avoid leaving sockets open which can trigger a ResourceWarning in some\u001b[39;00m\n\u001b[0;32m     57\u001b[0m \u001b[38;5;66;03m# cases, and look like a memory leak in others.\u001b[39;00m\n\u001b[0;32m     58\u001b[0m \u001b[38;5;28;01mwith\u001b[39;00m sessions\u001b[38;5;241m.\u001b[39mSession() \u001b[38;5;28;01mas\u001b[39;00m session:\n\u001b[1;32m---> 59\u001b[0m     \u001b[38;5;28;01mreturn\u001b[39;00m session\u001b[38;5;241m.\u001b[39mrequest(method\u001b[38;5;241m=\u001b[39mmethod, url\u001b[38;5;241m=\u001b[39murl, \u001b[38;5;241m*\u001b[39m\u001b[38;5;241m*\u001b[39mkwargs)\n",
      "File \u001b[1;32m~\\AppData\\Local\\Programs\\Python\\Python310\\lib\\site-packages\\requests\\sessions.py:587\u001b[0m, in \u001b[0;36mSession.request\u001b[1;34m(self, method, url, params, data, headers, cookies, files, auth, timeout, allow_redirects, proxies, hooks, stream, verify, cert, json)\u001b[0m\n\u001b[0;32m    582\u001b[0m send_kwargs \u001b[38;5;241m=\u001b[39m {\n\u001b[0;32m    583\u001b[0m     \u001b[38;5;124m\"\u001b[39m\u001b[38;5;124mtimeout\u001b[39m\u001b[38;5;124m\"\u001b[39m: timeout,\n\u001b[0;32m    584\u001b[0m     \u001b[38;5;124m\"\u001b[39m\u001b[38;5;124mallow_redirects\u001b[39m\u001b[38;5;124m\"\u001b[39m: allow_redirects,\n\u001b[0;32m    585\u001b[0m }\n\u001b[0;32m    586\u001b[0m send_kwargs\u001b[38;5;241m.\u001b[39mupdate(settings)\n\u001b[1;32m--> 587\u001b[0m resp \u001b[38;5;241m=\u001b[39m \u001b[38;5;28mself\u001b[39m\u001b[38;5;241m.\u001b[39msend(prep, \u001b[38;5;241m*\u001b[39m\u001b[38;5;241m*\u001b[39msend_kwargs)\n\u001b[0;32m    589\u001b[0m \u001b[38;5;28;01mreturn\u001b[39;00m resp\n",
      "File \u001b[1;32m~\\AppData\\Local\\Programs\\Python\\Python310\\lib\\site-packages\\requests\\sessions.py:701\u001b[0m, in \u001b[0;36mSession.send\u001b[1;34m(self, request, **kwargs)\u001b[0m\n\u001b[0;32m    698\u001b[0m start \u001b[38;5;241m=\u001b[39m preferred_clock()\n\u001b[0;32m    700\u001b[0m \u001b[38;5;66;03m# Send the request\u001b[39;00m\n\u001b[1;32m--> 701\u001b[0m r \u001b[38;5;241m=\u001b[39m adapter\u001b[38;5;241m.\u001b[39msend(request, \u001b[38;5;241m*\u001b[39m\u001b[38;5;241m*\u001b[39mkwargs)\n\u001b[0;32m    703\u001b[0m \u001b[38;5;66;03m# Total elapsed time of the request (approximately)\u001b[39;00m\n\u001b[0;32m    704\u001b[0m elapsed \u001b[38;5;241m=\u001b[39m preferred_clock() \u001b[38;5;241m-\u001b[39m start\n",
      "File \u001b[1;32m~\\AppData\\Local\\Programs\\Python\\Python310\\lib\\site-packages\\requests\\adapters.py:565\u001b[0m, in \u001b[0;36mHTTPAdapter.send\u001b[1;34m(self, request, stream, timeout, verify, cert, proxies)\u001b[0m\n\u001b[0;32m    561\u001b[0m     \u001b[38;5;28;01mif\u001b[39;00m \u001b[38;5;28misinstance\u001b[39m(e\u001b[38;5;241m.\u001b[39mreason, _SSLError):\n\u001b[0;32m    562\u001b[0m         \u001b[38;5;66;03m# This branch is for urllib3 v1.22 and later.\u001b[39;00m\n\u001b[0;32m    563\u001b[0m         \u001b[38;5;28;01mraise\u001b[39;00m SSLError(e, request\u001b[38;5;241m=\u001b[39mrequest)\n\u001b[1;32m--> 565\u001b[0m     \u001b[38;5;28;01mraise\u001b[39;00m \u001b[38;5;167;01mConnectionError\u001b[39;00m(e, request\u001b[38;5;241m=\u001b[39mrequest)\n\u001b[0;32m    567\u001b[0m \u001b[38;5;28;01mexcept\u001b[39;00m ClosedPoolError \u001b[38;5;28;01mas\u001b[39;00m e:\n\u001b[0;32m    568\u001b[0m     \u001b[38;5;28;01mraise\u001b[39;00m \u001b[38;5;167;01mConnectionError\u001b[39;00m(e, request\u001b[38;5;241m=\u001b[39mrequest)\n",
      "\u001b[1;31mConnectionError\u001b[0m: HTTPSConnectionPool(host='www.betterteam.com', port=443): Max retries exceeded with url: /job-description (Caused by NewConnectionError('<urllib3.connection.HTTPSConnection object at 0x0000022907BE2140>: Failed to establish a new connection: [Errno 11001] getaddrinfo failed'))"
     ]
    }
   ],
   "source": [
    "import requests\n",
    "import bs4\n",
    "import csv\n",
    "\n",
    "#open a file\n",
    "\n",
    "#request to get the website\n",
    "res=requests.get(\"https://www.betterteam.com/job-description\")\n",
    "bs=bs4.BeautifulSoup(res.text,\"html.parser\")\n",
    "\n",
    "#create a list with class name \n",
    "base=bs.select('.col-md-6.item')\n",
    "i=0\n",
    "requirements=[]\n",
    "fd=[]\n",
    "job=[]\n",
    "jl=list(map(str,input(\"Enter the job titles to be displayed\").split()))\n",
    "\n",
    "with open(\"jobs.txt\",'w') as f:\n",
    "    \n",
    "    for i in jl:\n",
    "        f.write(i)\n",
    "jl= pd.read_csv('C:/Users/admin/Pictures/Screenshots/jobs.txt')\n",
    "joblist=jl[0]\n",
    "jl=jl.tolist()\n",
    "\n",
    "while i!=len(base):\n",
    "    #initialize each element of list to ul\n",
    "    ul=base[i]\n",
    "    #print(\"----------------------------------------------------------------\")\n",
    "\n",
    "    #get only the link from each href\n",
    "    link_text=ul.select('a')[0].getText()\n",
    "    link=\"\"\n",
    "\n",
    "    for item in joblist:\n",
    "        if item in link_text:\n",
    "            link=ul.select('a')[0]['href']\n",
    "            job.append(link[27:])\n",
    "\n",
    "        \n",
    "            #next linked page\n",
    "            req=requests.get(link)\n",
    "            bea=bs4.BeautifulSoup(req.text,\"html.parser\")\n",
    "            #the 3rd ul in the page has the job requierments\n",
    "            li=bea.select('ul')[3]\n",
    "            li=bea.select('ul')[3]\n",
    "            li=str(li)\n",
    "            requirements.append(li[8:])\n",
    "    i=i+1\n",
    "    #get each requierments and store it in a file\n",
    "one=requirements[1]\n",
    "\n",
    "fd=[]\n",
    "for i in range(len(requirements)):\n",
    "    s=requirements[i]\n",
    "    s=s.replace('</li>',' ')\n",
    "    s=s.replace('<li>',' ')\n",
    "    s=s.replace('<ul>',' ')\n",
    "    s=s.replace('</ul',\" \")\n",
    "    s=s.replace('<',\" \")\n",
    "    fd.append(s)\n",
    "\n",
    "\n",
    "file_name='Job Decription final.csv'\n",
    "with open(file_name,'w',encoding='utf-8') as f:\n",
    "    f.write=csv.writer(f)\n",
    "    f.write.writerow(['Index','Job Title','Description'])\n",
    "    \n",
    "    for i in range(len(job)):\n",
    "        f.write.writerow([i+1,job[i],fd[i]])\n",
    "\n",
    "   \n",
    "\n",
    "\n",
    "\n"
   ]
  },
  {
   "cell_type": "markdown",
   "id": "5320b150",
   "metadata": {},
   "source": [
    "### Week 2"
   ]
  },
  {
   "cell_type": "code",
   "execution_count": 2,
   "id": "f9c79cf8",
   "metadata": {},
   "outputs": [],
   "source": [
    "import pandas as pd\n",
    "jd=pd.read_csv(\"C:/Users/admin/Job Decription final.csv\")\n",
    "inplace=True"
   ]
  },
  {
   "cell_type": "code",
   "execution_count": 8,
   "id": "f6641398",
   "metadata": {},
   "outputs": [],
   "source": [
    "job_title=[]\n",
    "jt=jd['Job Title']\n",
    "for i in jt:\n",
    "    i=i.replace('-',\" \")\n",
    "    i=i.replace('description',\" \")\n",
    "    i=i.title()\n",
    "    job_title.append(i)\n",
    "jd.insert(1,column='JOB TITLE',value=job_title)\n",
    "\n"
   ]
  },
  {
   "cell_type": "code",
   "execution_count": 9,
   "id": "45e7d955",
   "metadata": {},
   "outputs": [
    {
     "name": "stderr",
     "output_type": "stream",
     "text": [
      "C:\\Users\\admin\\AppData\\Local\\Temp\\ipykernel_10516\\858459204.py:2: FutureWarning: The default value of regex will change from True to False in a future version.\n",
      "  jd['Description'] = jd['Description'].str.replace('[^\\w\\s]',' ')\n"
     ]
    }
   ],
   "source": [
    "jd['Description']=jd['Description'].apply(lambda x: \" \".join(x.lower()for x in x.split()))\n",
    "jd['Description'] = jd['Description'].str.replace('[^\\w\\s]',' ')"
   ]
  },
  {
   "cell_type": "code",
   "execution_count": null,
   "id": "46594d67",
   "metadata": {},
   "outputs": [],
   "source": []
  },
  {
   "cell_type": "code",
   "execution_count": 10,
   "id": "e28aa042",
   "metadata": {},
   "outputs": [],
   "source": [
    "import nltk\n",
    "from nltk.corpus import stopwords\n",
    "from nltk.tokenize import word_tokenize\n",
    "from textblob import Word\n",
    "\n",
    "stop = stopwords.words('english')\n",
    "jd['Description'] = jd['Description'].apply(lambda x: \" \".join(x for x in x.split() if x not in stop))\n"
   ]
  },
  {
   "cell_type": "code",
   "execution_count": 11,
   "id": "707dbd00",
   "metadata": {},
   "outputs": [],
   "source": [
    "job_desc=jd.copy()"
   ]
  },
  {
   "cell_type": "code",
   "execution_count": 12,
   "id": "8cdbcc50",
   "metadata": {},
   "outputs": [
    {
     "data": {
      "text/html": [
       "<div>\n",
       "<style scoped>\n",
       "    .dataframe tbody tr th:only-of-type {\n",
       "        vertical-align: middle;\n",
       "    }\n",
       "\n",
       "    .dataframe tbody tr th {\n",
       "        vertical-align: top;\n",
       "    }\n",
       "\n",
       "    .dataframe thead th {\n",
       "        text-align: right;\n",
       "    }\n",
       "</style>\n",
       "<table border=\"1\" class=\"dataframe\">\n",
       "  <thead>\n",
       "    <tr style=\"text-align: right;\">\n",
       "      <th></th>\n",
       "      <th>Index</th>\n",
       "      <th>JOB TITLE</th>\n",
       "      <th>Job Title</th>\n",
       "      <th>Description</th>\n",
       "    </tr>\n",
       "  </thead>\n",
       "  <tbody>\n",
       "    <tr>\n",
       "      <th>0</th>\n",
       "      <td>1</td>\n",
       "      <td>Healthcare Data Analyst Job</td>\n",
       "      <td>healthcare-data-analyst-job-description</td>\n",
       "      <td>bachelor degree mathematics statistics healthc...</td>\n",
       "    </tr>\n",
       "    <tr>\n",
       "      <th>1</th>\n",
       "      <td>2</td>\n",
       "      <td>Data Analyst Job</td>\n",
       "      <td>data-analyst-job-description</td>\n",
       "      <td>bachelor degree accredited university college ...</td>\n",
       "    </tr>\n",
       "    <tr>\n",
       "      <th>2</th>\n",
       "      <td>3</td>\n",
       "      <td>Data Scientist Job</td>\n",
       "      <td>data-scientist-job-description</td>\n",
       "      <td>msc phd degree applied mathematics statistics ...</td>\n",
       "    </tr>\n",
       "    <tr>\n",
       "      <th>3</th>\n",
       "      <td>4</td>\n",
       "      <td>Machine Learning Engineer Job</td>\n",
       "      <td>machine-learning-engineer-job-description</td>\n",
       "      <td>bachelor degree computer science data science ...</td>\n",
       "    </tr>\n",
       "    <tr>\n",
       "      <th>4</th>\n",
       "      <td>5</td>\n",
       "      <td>Python Developer Job</td>\n",
       "      <td>python-developer-job-description</td>\n",
       "      <td>bachelor degree computer science computer engi...</td>\n",
       "    </tr>\n",
       "    <tr>\n",
       "      <th>5</th>\n",
       "      <td>6</td>\n",
       "      <td>Senior Data Scientist Job</td>\n",
       "      <td>senior-data-scientist-job-description</td>\n",
       "      <td>advanced degree data science statistics comput...</td>\n",
       "    </tr>\n",
       "  </tbody>\n",
       "</table>\n",
       "</div>"
      ],
      "text/plain": [
       "   Index                        JOB TITLE  \\\n",
       "0      1    Healthcare Data Analyst Job     \n",
       "1      2               Data Analyst Job     \n",
       "2      3             Data Scientist Job     \n",
       "3      4  Machine Learning Engineer Job     \n",
       "4      5           Python Developer Job     \n",
       "5      6      Senior Data Scientist Job     \n",
       "\n",
       "                                   Job Title  \\\n",
       "0    healthcare-data-analyst-job-description   \n",
       "1               data-analyst-job-description   \n",
       "2             data-scientist-job-description   \n",
       "3  machine-learning-engineer-job-description   \n",
       "4           python-developer-job-description   \n",
       "5      senior-data-scientist-job-description   \n",
       "\n",
       "                                         Description  \n",
       "0  bachelor degree mathematics statistics healthc...  \n",
       "1  bachelor degree accredited university college ...  \n",
       "2  msc phd degree applied mathematics statistics ...  \n",
       "3  bachelor degree computer science data science ...  \n",
       "4  bachelor degree computer science computer engi...  \n",
       "5  advanced degree data science statistics comput...  "
      ]
     },
     "execution_count": 12,
     "metadata": {},
     "output_type": "execute_result"
    }
   ],
   "source": [
    "jd"
   ]
  },
  {
   "cell_type": "markdown",
   "id": "67854d25",
   "metadata": {},
   "source": [
    "### Week3"
   ]
  },
  {
   "cell_type": "code",
   "execution_count": 13,
   "id": "97e6f18a",
   "metadata": {},
   "outputs": [],
   "source": [
    "import pandas as pd\n",
    "from nltk.corpus import stopwords\n",
    "j2=pd.read_csv(\"C:/Users/admin/Job Decription final.csv\")\n",
    "stop = stopwords.words('english')\n",
    "j2['Description'] = j2['Description'].apply(lambda x: \" \".join(x for x in x.split() if x not in stop))\n",
    "j2['Description']=j2['Description'].apply(lambda x: \" \".join(x.lower()for x in x.split()))\n"
   ]
  },
  {
   "cell_type": "code",
   "execution_count": 14,
   "id": "e7ebba8d",
   "metadata": {},
   "outputs": [],
   "source": [
    "req=j2['Description']\n",
    "requi=req"
   ]
  },
  {
   "cell_type": "code",
   "execution_count": 15,
   "id": "8a56a377",
   "metadata": {},
   "outputs": [],
   "source": [
    "fs=[]\n",
    "for i in requi:\n",
    "    i=i.replace('>',\" \")\n",
    "    i=i.replace(',',\"\")\n",
    "    fs.append(i)\n"
   ]
  },
  {
   "cell_type": "code",
   "execution_count": null,
   "id": "51673698",
   "metadata": {},
   "outputs": [],
   "source": []
  },
  {
   "cell_type": "code",
   "execution_count": 55,
   "id": "2321f631",
   "metadata": {},
   "outputs": [],
   "source": [
    "df={\n",
    "    'Index':jd[\"Index\"],\n",
    "    'Job Title':jd['JOB TITLE'],\n",
    "    \"Description\":jd['Description']\n",
    "}\n",
    "jobs_file=pd.DataFrame(df)\n",
    "jobs_file.to_csv(\"Jobs.csv\")"
   ]
  },
  {
   "cell_type": "code",
   "execution_count": 79,
   "id": "1e16a228",
   "metadata": {},
   "outputs": [],
   "source": [
    "j=pd.read_csv(\"C:/Users/admin/Jobs.csv\")\n",
    "j=j.drop(\"Unnamed: 0\",axis=1)"
   ]
  },
  {
   "cell_type": "code",
   "execution_count": 69,
   "id": "321a996a",
   "metadata": {},
   "outputs": [
    {
     "data": {
      "text/plain": [
       "<sqlite3.Cursor at 0x18fa98ff9c0>"
      ]
     },
     "execution_count": 69,
     "metadata": {},
     "output_type": "execute_result"
    }
   ],
   "source": [
    "import sqlite3\n",
    "import csv\n",
    "\n",
    "n=0\n",
    "\n",
    "cursor.execute(\"\"\"CREATE TABLE jobs(\n",
    "        \"S.no\" TEXT,\n",
    "        \"index\" TEXT,\n",
    "        \"job_name\" TEXT,\n",
    "        \"skills_req\" TEXT\n",
    ") \"\"\")"
   ]
  },
  {
   "cell_type": "code",
   "execution_count": 73,
   "id": "10830131",
   "metadata": {},
   "outputs": [
    {
     "ename": "ProgrammingError",
     "evalue": "Cannot operate on a closed database.",
     "output_type": "error",
     "traceback": [
      "\u001b[1;31m---------------------------------------------------------------------------\u001b[0m",
      "\u001b[1;31mProgrammingError\u001b[0m                          Traceback (most recent call last)",
      "Input \u001b[1;32mIn [73]\u001b[0m, in \u001b[0;36m<cell line: 1>\u001b[1;34m()\u001b[0m\n\u001b[1;32m----> 1\u001b[0m \u001b[43mconnection\u001b[49m\u001b[38;5;241;43m.\u001b[39;49m\u001b[43mcommit\u001b[49m\u001b[43m(\u001b[49m\u001b[43m)\u001b[49m\n\u001b[0;32m      2\u001b[0m \u001b[38;5;28;01mwith\u001b[39;00m \u001b[38;5;28mopen\u001b[39m(\u001b[38;5;124m'\u001b[39m\u001b[38;5;124mC:/Users/admin/Jobs.csv\u001b[39m\u001b[38;5;124m'\u001b[39m,\u001b[38;5;124m'\u001b[39m\u001b[38;5;124mr\u001b[39m\u001b[38;5;124m'\u001b[39m) \u001b[38;5;28;01mas\u001b[39;00m file:\n\u001b[0;32m      3\u001b[0m     \u001b[38;5;28;01mfor\u001b[39;00m row \u001b[38;5;129;01min\u001b[39;00m file:\n",
      "\u001b[1;31mProgrammingError\u001b[0m: Cannot operate on a closed database."
     ]
    }
   ],
   "source": [
    "\n",
    "connection.commit()\n",
    "with open('C:/Users/admin/Jobs.csv','r') as file:\n",
    "    for row in file:\n",
    "        cursor.execute(\"INSERT INTO jobs VALUES(?,?,?,?)\",row.split(','))\n",
    "        connection.commit()\n",
    "        n += 1\n",
    "\n",
    "connection.close()\n"
   ]
  },
  {
   "cell_type": "code",
   "execution_count": 91,
   "id": "2fb96eb1",
   "metadata": {},
   "outputs": [],
   "source": [
    "required_skills=[\"machine learning\",'python','numpy','data science','database','sql','programming','communication','mathematics']\n",
    "skills_dict={}\n",
    "for i in required_skills:\n",
    "    skills_dict[i]=0\n",
    "\n"
   ]
  },
  {
   "cell_type": "code",
   "execution_count": 29,
   "id": "f7c4927c",
   "metadata": {},
   "outputs": [
    {
     "data": {
      "text/plain": [
       "['bachelor degree mathematics statistics healthcare administration related field master degree advantageous 4 years experience analytic role proficiency database programming languages sql proficiency python data manipulation experience data visualization tools knowledge data management applications proficiency managing electronic medical records analytical mindset good problem solving skills excellent written verbal communication skills good interpersonal skills',\n",
       " 'bachelor degree accredited university college computer science work experience data analyst related field ability work stakeholders assess potential risks ability analyze existing tools databases provide software solution recommendations ability translate business requirements non technical lay terms high level experience methodologies processes managing large scale databases demonstrated experience handling large data sets relational databases understanding addressing metadata standards high level written verbal communication skills',\n",
       " 'msc phd degree applied mathematics statistics 5 years industry experience advanced coursework machine learning programming experience using data visualization tools experience data querying languages statistical mathematical software proficient writing algorithms knowing apply excellent understanding statistics multivariable calculus linear algebra outstanding communication skills',\n",
       " 'bachelor degree computer science data science mathematics related field master degree computational linguistics data analytics similar advantageous least two years experience machine learning engineer advanced proficiency python java r code writing extensive knowledge ml frameworks libraries data structures data modeling software architecture depth knowledge mathematics statistics algorithms superb analytical problem solving abilities great communication collaboration skills excellent time management organizational abilities',\n",
       " 'bachelor degree computer science computer engineering related field 3 5 years experience python developer expert knowledge python related frameworks including django flask deep understanding multi process architecture threading limitations python familiarity server side templating languages including jinja 2 mako ability integrate multiple data sources single system familiarity testing tools ability collaborate projects work independently required',\n",
       " 'advanced degree data science statistics computer science similar extensive experience data scientist proficiency r python former preferred depth understanding sql competent machine learning principles techniques demonstrable history devising overseeing data centered projects ability relay insights layman terms used inform business decisions outstanding supervision mentorship abilities capacity foster healthy stimulating work environment frequently harnesses teamwork compliance prevailing ethical standards']"
      ]
     },
     "execution_count": 29,
     "metadata": {},
     "output_type": "execute_result"
    }
   ],
   "source": [
    "job_gn=j['Job Title']\n",
    "job_gn.to_list()\n",
    "\n",
    "req=j['Description']\n",
    "req.to_list()"
   ]
  },
  {
   "cell_type": "markdown",
   "id": "f883cd51",
   "metadata": {},
   "source": [
    "\n",
    "### WEEK 4"
   ]
  },
  {
   "cell_type": "code",
   "execution_count": 49,
   "id": "4998aad6",
   "metadata": {},
   "outputs": [],
   "source": [
    "jd=pd.read_csv(\"C:/Users/admin/Job Decription final.csv\")"
   ]
  },
  {
   "cell_type": "code",
   "execution_count": 51,
   "id": "0a123283",
   "metadata": {},
   "outputs": [],
   "source": [
    "requi=jd['Description']\n",
    "final_dict={}\n",
    "j=0\n",
    "for i in requi:\n",
    "        requi=list(i.split(\".\"))\n",
    "        final_dict[j]=requi\n",
    "        j=j+1"
   ]
  },
  {
   "cell_type": "code",
   "execution_count": 53,
   "id": "8b00dc9b",
   "metadata": {},
   "outputs": [],
   "source": [
    "final_list=[]\n",
    "for key in final_dict:\n",
    "    final_list.append(final_dict[key])"
   ]
  },
  {
   "cell_type": "code",
   "execution_count": 60,
   "id": "ae6c7172",
   "metadata": {},
   "outputs": [
    {
     "data": {
      "text/plain": [
       "{'Healthcare Data Analyst Job  ': [\"Bachelor's degree in mathematics, statistics, healthcare administration, or related field\",\n",
       "  \"  Master's degree advantageous\",\n",
       "  '  4+ years experience in an analytic role',\n",
       "  '  Proficiency with database programming languages such as SQL',\n",
       "  '  Proficiency with Python for data manipulation',\n",
       "  '  Experience with data visualization tools',\n",
       "  '  Knowledge of data management applications',\n",
       "  '  Proficiency in managing electronic medical records',\n",
       "  '  Analytical mindset with good problem-solving skills',\n",
       "  '  Excellent written and verbal communication skills',\n",
       "  '  Good interpersonal skills',\n",
       "  '  >'],\n",
       " 'Data Analyst Job  ': ['Bachelor’s degree from an accredited university or college in computer science',\n",
       "  '  Work experience as a data analyst or in a related field',\n",
       "  '  Ability to work with stakeholders to assess potential risks',\n",
       "  '  Ability to analyze existing tools and databases and provide software solution recommendations',\n",
       "  '  Ability to translate business requirements into non-technical, lay terms',\n",
       "  '  High-level experience in methodologies and processes for managing large-scale databases',\n",
       "  '  Demonstrated experience in handling large data sets and relational databases',\n",
       "  '  Understanding of addressing and metadata standards',\n",
       "  '  High-level written and verbal communication skills',\n",
       "  '  >'],\n",
       " 'Data Scientist Job  ': ['A MSc or PhD degree in applied mathematics or statistics',\n",
       "  '  5+ years of industry experience',\n",
       "  '  Advanced coursework in machine learning and programming',\n",
       "  '  Experience using data visualization tools',\n",
       "  '  Experience with data querying languages, and statistical or mathematical software',\n",
       "  '  Proficient in writing algorithms, and knowing when to apply them',\n",
       "  '  Excellent understanding of statistics, multivariable calculus, and linear algebra',\n",
       "  '  Outstanding communication skills',\n",
       "  '  >'],\n",
       " 'Machine Learning Engineer Job  ': [\"Bachelor's degree in computer science, data science, mathematics, or a related field\",\n",
       "  '  Master’s degree in computational linguistics, data analytics, or similar will be advantageous',\n",
       "  \"  At least two years' experience as a machine learning engineer\",\n",
       "  '  Advanced proficiency with Python, Java, and R code writing',\n",
       "  '  Extensive knowledge of ML frameworks, libraries, data structures, data modeling, and software architecture',\n",
       "  '  In-depth knowledge of mathematics, statistics, and algorithms',\n",
       "  '  Superb analytical and problem-solving abilities',\n",
       "  '  Great communication and collaboration skills',\n",
       "  '  Excellent time management and organizational abilities',\n",
       "  '  >'],\n",
       " 'Python Developer Job  ': [\"Bachelor's degree in computer science, computer engineering, or related field\",\n",
       "  '  3-5 years of experience as a Python developer',\n",
       "  '  Expert knowledge of Python and related frameworks including Django and Flask',\n",
       "  '  A deep understanding and multi-process architecture and the threading limitations of Python',\n",
       "  '  Familiarity with server-side templating languages including Jinja 2 and Mako',\n",
       "  '  Ability to integrate multiple data sources into a single system',\n",
       "  '  Familiarity with testing tools',\n",
       "  '  Ability to collaborate on projects and work independently when required',\n",
       "  '  >'],\n",
       " 'Senior Data Scientist Job  ': ['Advanced degree in data science, statistics, computer science, or similar',\n",
       "  '  Extensive experience as a data scientist',\n",
       "  '  Proficiency in R or Python, where the former is preferred',\n",
       "  '  In-depth understanding of SQL',\n",
       "  '  Competent in machine learning principles and techniques',\n",
       "  '  Demonstrable history of devising and overseeing data-centered projects',\n",
       "  \"  Ability to relay insights in layman's terms, such that these can be used to inform business decisions\",\n",
       "  '  Outstanding supervision and mentorship abilities',\n",
       "  '  Capacity to foster a healthy, stimulating work environment that frequently harnesses teamwork',\n",
       "  '  Compliance with prevailing ethical standards',\n",
       "  '  >']}"
      ]
     },
     "execution_count": 60,
     "metadata": {},
     "output_type": "execute_result"
    }
   ],
   "source": [
    "ser={job_gn[i]:final_list[i] for i in range(len(job_gn))}\n",
    "ser"
   ]
  },
  {
   "cell_type": "code",
   "execution_count": 62,
   "id": "71a37835",
   "metadata": {},
   "outputs": [],
   "source": [
    "new_skills=[]\n",
    "for i in ser:\n",
    "    job_list=[]\n",
    "    job_list.append(i)\n",
    "    \n",
    "    job_list.append(ser[i])\n",
    "    new_skills.append(job_list)\n"
   ]
  },
  {
   "cell_type": "code",
   "execution_count": 92,
   "id": "e5735b1d",
   "metadata": {},
   "outputs": [
    {
     "data": {
      "text/plain": [
       "{'machine learning': [3,\n",
       "  ['Data Scientist Job  ',\n",
       "   'Machine Learning Engineer Job  ',\n",
       "   'Senior Data Scientist Job  ']],\n",
       " 'python': 0,\n",
       " 'numpy': 0,\n",
       " 'data science': [2,\n",
       "  ['Machine Learning Engineer Job  ', 'Senior Data Scientist Job  ']],\n",
       " 'database': [4,\n",
       "  ['Healthcare Data Analyst Job  ',\n",
       "   'Data Analyst Job  ',\n",
       "   'Data Analyst Job  ',\n",
       "   'Data Analyst Job  ']],\n",
       " 'sql': 0,\n",
       " 'programming': [2, ['Healthcare Data Analyst Job  ', 'Data Scientist Job  ']],\n",
       " 'communication': [4,\n",
       "  ['Healthcare Data Analyst Job  ',\n",
       "   'Data Analyst Job  ',\n",
       "   'Data Scientist Job  ',\n",
       "   'Machine Learning Engineer Job  ']],\n",
       " 'mathematics': [4,\n",
       "  ['Healthcare Data Analyst Job  ',\n",
       "   'Data Scientist Job  ',\n",
       "   'Machine Learning Engineer Job  ',\n",
       "   'Machine Learning Engineer Job  ']]}"
      ]
     },
     "execution_count": 92,
     "metadata": {},
     "output_type": "execute_result"
    }
   ],
   "source": [
    "rank_skills=[]\n",
    "for i in required_skills:\n",
    "    count=0\n",
    "    for j in ser:\n",
    "        \n",
    "            if i==ser[j]:\n",
    "                count +=1\n",
    "                rank_skills[i]=count\n",
    "\n",
    "\n",
    "a=0\n",
    "while(a<len(required_skills)):\n",
    "    count=0\n",
    "    lt=[]\n",
    "    for i in range(len(new_skills)):\n",
    "        for j in range(len(new_skills[i][1])):\n",
    "            if required_skills[a] in new_skills[i][1][j]:\n",
    "                count += 1\n",
    "                s=required_skills[a]\n",
    "                #print(s)\n",
    "                lt.append(new_skills[i][0])\n",
    "                skills_dict[s] = [count,lt]\n",
    "                \n",
    "    a +=1\n",
    "skills_dict\n"
   ]
  },
  {
   "cell_type": "code",
   "execution_count": 96,
   "id": "2b3f0d10",
   "metadata": {},
   "outputs": [
    {
     "data": {
      "text/plain": [
       "['communication',\n",
       " 'data science',\n",
       " 'database',\n",
       " 'machine learning',\n",
       " 'mathematics',\n",
       " 'numpy',\n",
       " 'programming',\n",
       " 'python',\n",
       " 'sql']"
      ]
     },
     "execution_count": 96,
     "metadata": {},
     "output_type": "execute_result"
    }
   ],
   "source": [
    "rank_list=sorted(skills_dict)\n",
    "rank_list"
   ]
  },
  {
   "cell_type": "raw",
   "id": "d3cb1801",
   "metadata": {},
   "source": []
  },
  {
   "cell_type": "code",
   "execution_count": 97,
   "id": "4cc5656b",
   "metadata": {},
   "outputs": [
    {
     "data": {
      "text/plain": [
       "{'machine learning': [3,\n",
       "  ['Data Scientist Job  ',\n",
       "   'Machine Learning Engineer Job  ',\n",
       "   'Senior Data Scientist Job  ']],\n",
       " 'python': 0,\n",
       " 'numpy': 0,\n",
       " 'data science': [2,\n",
       "  ['Machine Learning Engineer Job  ', 'Senior Data Scientist Job  ']],\n",
       " 'database': [4,\n",
       "  ['Healthcare Data Analyst Job  ',\n",
       "   'Data Analyst Job  ',\n",
       "   'Data Analyst Job  ',\n",
       "   'Data Analyst Job  ']],\n",
       " 'sql': 0,\n",
       " 'programming': [2, ['Healthcare Data Analyst Job  ', 'Data Scientist Job  ']],\n",
       " 'communication': [4,\n",
       "  ['Healthcare Data Analyst Job  ',\n",
       "   'Data Analyst Job  ',\n",
       "   'Data Scientist Job  ',\n",
       "   'Machine Learning Engineer Job  ']],\n",
       " 'mathematics': [4,\n",
       "  ['Healthcare Data Analyst Job  ',\n",
       "   'Data Scientist Job  ',\n",
       "   'Machine Learning Engineer Job  ',\n",
       "   'Machine Learning Engineer Job  ']]}"
      ]
     },
     "execution_count": 97,
     "metadata": {},
     "output_type": "execute_result"
    }
   ],
   "source": [
    "skills_dict"
   ]
  },
  {
   "cell_type": "code",
   "execution_count": null,
   "id": "5b1445e8",
   "metadata": {},
   "outputs": [],
   "source": []
  }
 ],
 "metadata": {
  "kernelspec": {
   "display_name": "Python 3 (ipykernel)",
   "language": "python",
   "name": "python3"
  },
  "language_info": {
   "codemirror_mode": {
    "name": "ipython",
    "version": 3
   },
   "file_extension": ".py",
   "mimetype": "text/x-python",
   "name": "python",
   "nbconvert_exporter": "python",
   "pygments_lexer": "ipython3",
   "version": "3.10.6"
  }
 },
 "nbformat": 4,
 "nbformat_minor": 5
}
